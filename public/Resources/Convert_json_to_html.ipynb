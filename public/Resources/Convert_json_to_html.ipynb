{
 "cells": [
  {
   "cell_type": "code",
   "execution_count": 1,
   "metadata": {},
   "outputs": [],
   "source": [
    "import pandas as pd\n"
   ]
  },
  {
   "cell_type": "code",
   "execution_count": 2,
   "metadata": {},
   "outputs": [],
   "source": [
    "df = pd.read_json(\"./stockInfo.json\")"
   ]
  },
  {
   "cell_type": "code",
   "execution_count": 3,
   "metadata": {},
   "outputs": [],
   "source": [
    "df.to_html(\"stock_html\", index = False)"
   ]
  },
  {
   "cell_type": "code",
   "execution_count": 4,
   "metadata": {},
   "outputs": [
    {
     "output_type": "execute_result",
     "data": {
      "text/plain": [
       "    Ticker                 name                  sector    Omo1     Hmo1  \\\n",
       "0      MMM           3M Company             Industrials  202.80  203.515   \n",
       "1      ABT  Abbott Laboratories             Health Care  118.04  118.260   \n",
       "2     ABBV          AbbVie Inc.             Health Care  116.59  116.810   \n",
       "3     ABMD              Abiomed             Health Care  282.65  283.090   \n",
       "4      ACN            Accenture  Information Technology  285.20  286.040   \n",
       "..     ...                  ...                     ...     ...      ...   \n",
       "497    YUM      Yum! Brands Inc  Consumer Discretionary  120.16  121.600   \n",
       "498   ZBRA   Zebra Technologies  Information Technology  498.38  503.890   \n",
       "499    ZBH        Zimmer Biomet             Health Care  168.62  169.040   \n",
       "500   ZION        Zions Bancorp              Financials   58.01   58.070   \n",
       "501    ZTS               Zoetis             Health Care  177.05  178.710   \n",
       "\n",
       "        Lmo1    Cmo1     Vmo1    Omo2    Hmo2  ...    Omo5    Hmo5      Lmo5  \\\n",
       "0    201.920  202.61  1529214  197.66  198.99  ...  182.29  182.98  174.8701   \n",
       "1    117.240  117.29  3095985  120.50  121.15  ...  120.25  124.72  119.7100   \n",
       "2    115.590  115.91  4821311  111.47  112.31  ...  104.00  104.49  101.8117   \n",
       "3    279.520  279.58   184160  320.09  327.00  ...  348.40  354.69  337.9300   \n",
       "4    284.215  284.85  1214972  290.77  290.92  ...  248.24  249.23  241.7300   \n",
       "..       ...     ...      ...     ...     ...  ...     ...     ...       ...   \n",
       "497  119.980  120.52  1414900  118.92  119.92  ...  102.09  103.24  101.1800   \n",
       "498  498.000  501.62   246539  491.03  494.91  ...  390.31  397.69  382.4912   \n",
       "499  167.610  167.86   783540  178.09  178.45  ...  156.00  156.79  151.8500   \n",
       "500   57.280   57.53   907797   55.95   56.77  ...   45.29   45.54   43.6400   \n",
       "501  175.980  176.40  2272969  173.70  174.85  ...  155.65  156.57  152.3000   \n",
       "\n",
       "       Cmo5      Vmo5    Omo6     Hmo6      Lmo6    Cmo6     Vmo6  \n",
       "0    175.66   4208471  174.12  174.870  173.1800  174.79  1840910  \n",
       "1    123.59  10995062  108.17  109.640  107.8500  109.49  2981077  \n",
       "2    102.48   9379013  105.26  107.280  104.8500  107.15  6146745  \n",
       "3    348.25    423266  324.38  325.270  318.5650  324.20   229004  \n",
       "4    241.92   2494406  257.60  261.320  257.4750  261.21  1325321  \n",
       "..      ...       ...     ...      ...       ...     ...      ...  \n",
       "497  101.49   1901293  108.74  109.175  107.3800  108.56  1651699  \n",
       "498  387.83    298959  383.72  385.490  380.4585  384.33   176519  \n",
       "499  153.67   1621543  151.86  154.480  151.2500  154.09   499190  \n",
       "500   44.14   1497023   43.20   43.620   42.7400   43.44   736330  \n",
       "501  154.25   1976659  164.50  165.675  163.2300  165.50  1292649  \n",
       "\n",
       "[502 rows x 33 columns]"
      ],
      "text/html": "<div>\n<style scoped>\n    .dataframe tbody tr th:only-of-type {\n        vertical-align: middle;\n    }\n\n    .dataframe tbody tr th {\n        vertical-align: top;\n    }\n\n    .dataframe thead th {\n        text-align: right;\n    }\n</style>\n<table border=\"1\" class=\"dataframe\">\n  <thead>\n    <tr style=\"text-align: right;\">\n      <th></th>\n      <th>Ticker</th>\n      <th>name</th>\n      <th>sector</th>\n      <th>Omo1</th>\n      <th>Hmo1</th>\n      <th>Lmo1</th>\n      <th>Cmo1</th>\n      <th>Vmo1</th>\n      <th>Omo2</th>\n      <th>Hmo2</th>\n      <th>...</th>\n      <th>Omo5</th>\n      <th>Hmo5</th>\n      <th>Lmo5</th>\n      <th>Cmo5</th>\n      <th>Vmo5</th>\n      <th>Omo6</th>\n      <th>Hmo6</th>\n      <th>Lmo6</th>\n      <th>Cmo6</th>\n      <th>Vmo6</th>\n    </tr>\n  </thead>\n  <tbody>\n    <tr>\n      <th>0</th>\n      <td>MMM</td>\n      <td>3M Company</td>\n      <td>Industrials</td>\n      <td>202.80</td>\n      <td>203.515</td>\n      <td>201.920</td>\n      <td>202.61</td>\n      <td>1529214</td>\n      <td>197.66</td>\n      <td>198.99</td>\n      <td>...</td>\n      <td>182.29</td>\n      <td>182.98</td>\n      <td>174.8701</td>\n      <td>175.66</td>\n      <td>4208471</td>\n      <td>174.12</td>\n      <td>174.870</td>\n      <td>173.1800</td>\n      <td>174.79</td>\n      <td>1840910</td>\n    </tr>\n    <tr>\n      <th>1</th>\n      <td>ABT</td>\n      <td>Abbott Laboratories</td>\n      <td>Health Care</td>\n      <td>118.04</td>\n      <td>118.260</td>\n      <td>117.240</td>\n      <td>117.29</td>\n      <td>3095985</td>\n      <td>120.50</td>\n      <td>121.15</td>\n      <td>...</td>\n      <td>120.25</td>\n      <td>124.72</td>\n      <td>119.7100</td>\n      <td>123.59</td>\n      <td>10995062</td>\n      <td>108.17</td>\n      <td>109.640</td>\n      <td>107.8500</td>\n      <td>109.49</td>\n      <td>2981077</td>\n    </tr>\n    <tr>\n      <th>2</th>\n      <td>ABBV</td>\n      <td>AbbVie Inc.</td>\n      <td>Health Care</td>\n      <td>116.59</td>\n      <td>116.810</td>\n      <td>115.590</td>\n      <td>115.91</td>\n      <td>4821311</td>\n      <td>111.47</td>\n      <td>112.31</td>\n      <td>...</td>\n      <td>104.00</td>\n      <td>104.49</td>\n      <td>101.8117</td>\n      <td>102.48</td>\n      <td>9379013</td>\n      <td>105.26</td>\n      <td>107.280</td>\n      <td>104.8500</td>\n      <td>107.15</td>\n      <td>6146745</td>\n    </tr>\n    <tr>\n      <th>3</th>\n      <td>ABMD</td>\n      <td>Abiomed</td>\n      <td>Health Care</td>\n      <td>282.65</td>\n      <td>283.090</td>\n      <td>279.520</td>\n      <td>279.58</td>\n      <td>184160</td>\n      <td>320.09</td>\n      <td>327.00</td>\n      <td>...</td>\n      <td>348.40</td>\n      <td>354.69</td>\n      <td>337.9300</td>\n      <td>348.25</td>\n      <td>423266</td>\n      <td>324.38</td>\n      <td>325.270</td>\n      <td>318.5650</td>\n      <td>324.20</td>\n      <td>229004</td>\n    </tr>\n    <tr>\n      <th>4</th>\n      <td>ACN</td>\n      <td>Accenture</td>\n      <td>Information Technology</td>\n      <td>285.20</td>\n      <td>286.040</td>\n      <td>284.215</td>\n      <td>284.85</td>\n      <td>1214972</td>\n      <td>290.77</td>\n      <td>290.92</td>\n      <td>...</td>\n      <td>248.24</td>\n      <td>249.23</td>\n      <td>241.7300</td>\n      <td>241.92</td>\n      <td>2494406</td>\n      <td>257.60</td>\n      <td>261.320</td>\n      <td>257.4750</td>\n      <td>261.21</td>\n      <td>1325321</td>\n    </tr>\n    <tr>\n      <th>...</th>\n      <td>...</td>\n      <td>...</td>\n      <td>...</td>\n      <td>...</td>\n      <td>...</td>\n      <td>...</td>\n      <td>...</td>\n      <td>...</td>\n      <td>...</td>\n      <td>...</td>\n      <td>...</td>\n      <td>...</td>\n      <td>...</td>\n      <td>...</td>\n      <td>...</td>\n      <td>...</td>\n      <td>...</td>\n      <td>...</td>\n      <td>...</td>\n      <td>...</td>\n      <td>...</td>\n    </tr>\n    <tr>\n      <th>497</th>\n      <td>YUM</td>\n      <td>Yum! Brands Inc</td>\n      <td>Consumer Discretionary</td>\n      <td>120.16</td>\n      <td>121.600</td>\n      <td>119.980</td>\n      <td>120.52</td>\n      <td>1414900</td>\n      <td>118.92</td>\n      <td>119.92</td>\n      <td>...</td>\n      <td>102.09</td>\n      <td>103.24</td>\n      <td>101.1800</td>\n      <td>101.49</td>\n      <td>1901293</td>\n      <td>108.74</td>\n      <td>109.175</td>\n      <td>107.3800</td>\n      <td>108.56</td>\n      <td>1651699</td>\n    </tr>\n    <tr>\n      <th>498</th>\n      <td>ZBRA</td>\n      <td>Zebra Technologies</td>\n      <td>Information Technology</td>\n      <td>498.38</td>\n      <td>503.890</td>\n      <td>498.000</td>\n      <td>501.62</td>\n      <td>246539</td>\n      <td>491.03</td>\n      <td>494.91</td>\n      <td>...</td>\n      <td>390.31</td>\n      <td>397.69</td>\n      <td>382.4912</td>\n      <td>387.83</td>\n      <td>298959</td>\n      <td>383.72</td>\n      <td>385.490</td>\n      <td>380.4585</td>\n      <td>384.33</td>\n      <td>176519</td>\n    </tr>\n    <tr>\n      <th>499</th>\n      <td>ZBH</td>\n      <td>Zimmer Biomet</td>\n      <td>Health Care</td>\n      <td>168.62</td>\n      <td>169.040</td>\n      <td>167.610</td>\n      <td>167.86</td>\n      <td>783540</td>\n      <td>178.09</td>\n      <td>178.45</td>\n      <td>...</td>\n      <td>156.00</td>\n      <td>156.79</td>\n      <td>151.8500</td>\n      <td>153.67</td>\n      <td>1621543</td>\n      <td>151.86</td>\n      <td>154.480</td>\n      <td>151.2500</td>\n      <td>154.09</td>\n      <td>499190</td>\n    </tr>\n    <tr>\n      <th>500</th>\n      <td>ZION</td>\n      <td>Zions Bancorp</td>\n      <td>Financials</td>\n      <td>58.01</td>\n      <td>58.070</td>\n      <td>57.280</td>\n      <td>57.53</td>\n      <td>907797</td>\n      <td>55.95</td>\n      <td>56.77</td>\n      <td>...</td>\n      <td>45.29</td>\n      <td>45.54</td>\n      <td>43.6400</td>\n      <td>44.14</td>\n      <td>1497023</td>\n      <td>43.20</td>\n      <td>43.620</td>\n      <td>42.7400</td>\n      <td>43.44</td>\n      <td>736330</td>\n    </tr>\n    <tr>\n      <th>501</th>\n      <td>ZTS</td>\n      <td>Zoetis</td>\n      <td>Health Care</td>\n      <td>177.05</td>\n      <td>178.710</td>\n      <td>175.980</td>\n      <td>176.40</td>\n      <td>2272969</td>\n      <td>173.70</td>\n      <td>174.85</td>\n      <td>...</td>\n      <td>155.65</td>\n      <td>156.57</td>\n      <td>152.3000</td>\n      <td>154.25</td>\n      <td>1976659</td>\n      <td>164.50</td>\n      <td>165.675</td>\n      <td>163.2300</td>\n      <td>165.50</td>\n      <td>1292649</td>\n    </tr>\n  </tbody>\n</table>\n<p>502 rows × 33 columns</p>\n</div>"
     },
     "metadata": {},
     "execution_count": 4
    }
   ],
   "source": [
    "df"
   ]
  },
  {
   "cell_type": "code",
   "execution_count": null,
   "metadata": {},
   "outputs": [],
   "source": []
  }
 ],
 "metadata": {
  "kernelspec": {
   "name": "python385jvsc74a57bd0c227d95d04b7ff30bd7d57f721224fdb029acc9c61b78e5ce3f17167399abaca",
   "display_name": "Python 3.8.5 64-bit ('base': conda)"
  },
  "language_info": {
   "codemirror_mode": {
    "name": "ipython",
    "version": 3
   },
   "file_extension": ".py",
   "mimetype": "text/x-python",
   "name": "python",
   "nbconvert_exporter": "python",
   "pygments_lexer": "ipython3",
   "version": "3.8.5"
  }
 },
 "nbformat": 4,
 "nbformat_minor": 4
}